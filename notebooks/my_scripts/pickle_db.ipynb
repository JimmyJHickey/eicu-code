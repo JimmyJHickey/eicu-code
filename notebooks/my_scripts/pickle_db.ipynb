{
 "cells": [
  {
   "cell_type": "markdown",
   "metadata": {},
   "source": [
    "https://pandas.pydata.org/docs/getting_started/comparison/comparison_with_sql.html"
   ]
  },
  {
   "cell_type": "code",
   "execution_count": 47,
   "metadata": {},
   "outputs": [],
   "source": [
    "# Import libraries\n",
    "import numpy as np\n",
    "import pandas as pd\n",
    "from pandas import DataFrame\n",
    "import matplotlib.pyplot as plt\n",
    "import psycopg2\n",
    "import getpass\n",
    "import pdvega\n",
    "\n",
    "# for configuring connection \n",
    "from configobj import ConfigObj\n",
    "import os\n",
    "\n",
    "%matplotlib inline"
   ]
  },
  {
   "cell_type": "code",
   "execution_count": 48,
   "metadata": {},
   "outputs": [
    {
     "name": "stderr",
     "output_type": "stream",
     "text": [
      "<ipython-input-48-b6f59137b3d1>:3: FutureWarning: Passing a negative integer is deprecated in version 1.0 and will not be supported in future version. Instead, use None to not limit the column width.\n",
      "  pd.set_option('display.max_colwidth', -1)\n"
     ]
    }
   ],
   "source": [
    "# display all rows of pandas data frame\n",
    "pd.set_option('display.max_rows', None)\n",
    "pd.set_option('display.max_colwidth', -1)\n"
   ]
  },
  {
   "cell_type": "code",
   "execution_count": 49,
   "metadata": {},
   "outputs": [
    {
     "name": "stdout",
     "output_type": "stream",
     "text": [
      "Database: eicu\n",
      "Username: postgres\n",
      "Password: ········\n"
     ]
    }
   ],
   "source": [
    "# Create a database connection using settings from config file\n",
    "config='../db/config.ini'\n",
    "\n",
    "# connection info\n",
    "conn_info = dict()\n",
    "if os.path.isfile(config):\n",
    "    config = ConfigObj(config)\n",
    "    conn_info[\"sqluser\"] = config['username']\n",
    "    conn_info[\"sqlpass\"] = config['password']\n",
    "    conn_info[\"sqlhost\"] = config['host']\n",
    "    conn_info[\"sqlport\"] = config['port']\n",
    "    conn_info[\"dbname\"] = config['dbname']\n",
    "    conn_info[\"schema_name\"] = config['schema_name']\n",
    "else:\n",
    "    conn_info[\"sqluser\"] = 'postgres'\n",
    "    conn_info[\"sqlpass\"] = ''\n",
    "    conn_info[\"sqlhost\"] = '127.0.0.1'\n",
    "    conn_info[\"sqlport\"] = 5432\n",
    "    conn_info[\"dbname\"] = 'eicu'\n",
    "    conn_info[\"schema_name\"] = 'eicu'\n",
    "    \n",
    "# Connect to the eICU database\n",
    "print('Database: {}'.format(conn_info['dbname']))\n",
    "print('Username: {}'.format(conn_info[\"sqluser\"]))\n",
    "if conn_info[\"sqlpass\"] == '':\n",
    "    # try connecting without password, i.e. peer or OS authentication\n",
    "    try:\n",
    "        if (conn_info[\"sqlhost\"] == 'localhost') & (conn_info[\"sqlport\"]=='5432'):\n",
    "            con = psycopg2.connect(dbname=conn_info[\"dbname\"],\n",
    "                                   user=conn_info[\"sqluser\"])            \n",
    "        else:\n",
    "            con = psycopg2.connect(dbname=conn_info[\"dbname\"],\n",
    "                                   host=conn_info[\"sqlhost\"],\n",
    "                                   port=conn_info[\"sqlport\"],\n",
    "                                   user=conn_info[\"sqluser\"])\n",
    "    except:\n",
    "        conn_info[\"sqlpass\"] = getpass.getpass('Password: ')\n",
    "\n",
    "        con = psycopg2.connect(dbname=conn_info[\"dbname\"],\n",
    "                               host=conn_info[\"sqlhost\"],\n",
    "                               port=conn_info[\"sqlport\"],\n",
    "                               user=conn_info[\"sqluser\"],\n",
    "                               password=conn_info[\"sqlpass\"])\n",
    "query_schema = 'set search_path to ' + conn_info['schema_name'] + ';'"
   ]
  },
  {
   "cell_type": "code",
   "execution_count": 50,
   "metadata": {},
   "outputs": [],
   "source": [
    "\n",
    "query = query_schema + \"\"\"\n",
    "SELECT *\n",
    "FROM diagnosis\n",
    "\"\"\"\n",
    "\n",
    "diagnosis_df = pd.read_sql_query(query, con)\n",
    "diagnosis_df.to_pickle(\"pickles/diagnosis.pkl\")\n",
    "\n",
    "query = query_schema + \"\"\"\n",
    "SELECT *\n",
    "FROM patient\n",
    "\"\"\"\n",
    "\n",
    "patient_df = pd.read_sql_query(query, con)\n",
    "patient_df.to_pickle(\"pickles/patient.pkl\")\n"
   ]
  },
  {
   "cell_type": "code",
   "execution_count": 51,
   "metadata": {},
   "outputs": [
    {
     "data": {
      "text/plain": [
       "(200859, 29)"
      ]
     },
     "execution_count": 51,
     "metadata": {},
     "output_type": "execute_result"
    }
   ],
   "source": [
    "patient_df.shape"
   ]
  },
  {
   "cell_type": "code",
   "execution_count": 52,
   "metadata": {},
   "outputs": [],
   "source": [
    "# join patient and diagnosis\n",
    "patient_diagonsis_df = pd.merge(patient_df, diagnosis_df, on=\"patientunitstayid\")"
   ]
  },
  {
   "cell_type": "code",
   "execution_count": 53,
   "metadata": {},
   "outputs": [
    {
     "data": {
      "text/html": [
       "<div>\n",
       "<style scoped>\n",
       "    .dataframe tbody tr th:only-of-type {\n",
       "        vertical-align: middle;\n",
       "    }\n",
       "\n",
       "    .dataframe tbody tr th {\n",
       "        vertical-align: top;\n",
       "    }\n",
       "\n",
       "    .dataframe thead th {\n",
       "        text-align: right;\n",
       "    }\n",
       "</style>\n",
       "<table border=\"1\" class=\"dataframe\">\n",
       "  <thead>\n",
       "    <tr style=\"text-align: right;\">\n",
       "      <th></th>\n",
       "      <th>patientunitstayid</th>\n",
       "      <th>patienthealthsystemstayid</th>\n",
       "      <th>gender</th>\n",
       "      <th>age</th>\n",
       "      <th>ethnicity</th>\n",
       "      <th>hospitalid</th>\n",
       "      <th>wardid</th>\n",
       "      <th>apacheadmissiondx</th>\n",
       "      <th>admissionheight</th>\n",
       "      <th>hospitaladmittime24</th>\n",
       "      <th>...</th>\n",
       "      <th>unitdischargeoffset</th>\n",
       "      <th>unitdischargelocation</th>\n",
       "      <th>unitdischargestatus</th>\n",
       "      <th>uniquepid</th>\n",
       "      <th>diagnosisid</th>\n",
       "      <th>activeupondischarge</th>\n",
       "      <th>diagnosisoffset</th>\n",
       "      <th>diagnosisstring</th>\n",
       "      <th>icd9code</th>\n",
       "      <th>diagnosispriority</th>\n",
       "    </tr>\n",
       "  </thead>\n",
       "  <tbody>\n",
       "    <tr>\n",
       "      <th>0</th>\n",
       "      <td>141168</td>\n",
       "      <td>128919</td>\n",
       "      <td>Female</td>\n",
       "      <td>70</td>\n",
       "      <td>Caucasian</td>\n",
       "      <td>59</td>\n",
       "      <td>91</td>\n",
       "      <td>Rhythm disturbance (atrial, supraventricular)</td>\n",
       "      <td>152.4</td>\n",
       "      <td>15:54:00</td>\n",
       "      <td>...</td>\n",
       "      <td>3596</td>\n",
       "      <td>Death</td>\n",
       "      <td>Expired</td>\n",
       "      <td>002-34851</td>\n",
       "      <td>4222318</td>\n",
       "      <td>False</td>\n",
       "      <td>72</td>\n",
       "      <td>cardiovascular|chest pain / ASHD|coronary artery disease|known</td>\n",
       "      <td>414.00, I25.10</td>\n",
       "      <td>Other</td>\n",
       "    </tr>\n",
       "    <tr>\n",
       "      <th>1</th>\n",
       "      <td>141168</td>\n",
       "      <td>128919</td>\n",
       "      <td>Female</td>\n",
       "      <td>70</td>\n",
       "      <td>Caucasian</td>\n",
       "      <td>59</td>\n",
       "      <td>91</td>\n",
       "      <td>Rhythm disturbance (atrial, supraventricular)</td>\n",
       "      <td>152.4</td>\n",
       "      <td>15:54:00</td>\n",
       "      <td>...</td>\n",
       "      <td>3596</td>\n",
       "      <td>Death</td>\n",
       "      <td>Expired</td>\n",
       "      <td>002-34851</td>\n",
       "      <td>3370568</td>\n",
       "      <td>True</td>\n",
       "      <td>118</td>\n",
       "      <td>cardiovascular|ventricular disorders|cardiomyopathy</td>\n",
       "      <td></td>\n",
       "      <td>Other</td>\n",
       "    </tr>\n",
       "    <tr>\n",
       "      <th>2</th>\n",
       "      <td>141168</td>\n",
       "      <td>128919</td>\n",
       "      <td>Female</td>\n",
       "      <td>70</td>\n",
       "      <td>Caucasian</td>\n",
       "      <td>59</td>\n",
       "      <td>91</td>\n",
       "      <td>Rhythm disturbance (atrial, supraventricular)</td>\n",
       "      <td>152.4</td>\n",
       "      <td>15:54:00</td>\n",
       "      <td>...</td>\n",
       "      <td>3596</td>\n",
       "      <td>Death</td>\n",
       "      <td>Expired</td>\n",
       "      <td>002-34851</td>\n",
       "      <td>4160941</td>\n",
       "      <td>False</td>\n",
       "      <td>72</td>\n",
       "      <td>pulmonary|disorders of the airways|COPD</td>\n",
       "      <td>491.20, J44.9</td>\n",
       "      <td>Other</td>\n",
       "    </tr>\n",
       "    <tr>\n",
       "      <th>3</th>\n",
       "      <td>141168</td>\n",
       "      <td>128919</td>\n",
       "      <td>Female</td>\n",
       "      <td>70</td>\n",
       "      <td>Caucasian</td>\n",
       "      <td>59</td>\n",
       "      <td>91</td>\n",
       "      <td>Rhythm disturbance (atrial, supraventricular)</td>\n",
       "      <td>152.4</td>\n",
       "      <td>15:54:00</td>\n",
       "      <td>...</td>\n",
       "      <td>3596</td>\n",
       "      <td>Death</td>\n",
       "      <td>Expired</td>\n",
       "      <td>002-34851</td>\n",
       "      <td>4103261</td>\n",
       "      <td>True</td>\n",
       "      <td>118</td>\n",
       "      <td>pulmonary|disorders of the airways|COPD</td>\n",
       "      <td>491.20, J44.9</td>\n",
       "      <td>Other</td>\n",
       "    </tr>\n",
       "    <tr>\n",
       "      <th>4</th>\n",
       "      <td>141168</td>\n",
       "      <td>128919</td>\n",
       "      <td>Female</td>\n",
       "      <td>70</td>\n",
       "      <td>Caucasian</td>\n",
       "      <td>59</td>\n",
       "      <td>91</td>\n",
       "      <td>Rhythm disturbance (atrial, supraventricular)</td>\n",
       "      <td>152.4</td>\n",
       "      <td>15:54:00</td>\n",
       "      <td>...</td>\n",
       "      <td>3596</td>\n",
       "      <td>Death</td>\n",
       "      <td>Expired</td>\n",
       "      <td>002-34851</td>\n",
       "      <td>3545241</td>\n",
       "      <td>True</td>\n",
       "      <td>118</td>\n",
       "      <td>cardiovascular|ventricular disorders|congestive heart failure</td>\n",
       "      <td>428.0, I50.9</td>\n",
       "      <td>Other</td>\n",
       "    </tr>\n",
       "  </tbody>\n",
       "</table>\n",
       "<p>5 rows × 35 columns</p>\n",
       "</div>"
      ],
      "text/plain": [
       "   patientunitstayid  patienthealthsystemstayid  gender age  ethnicity  \\\n",
       "0  141168             128919                     Female  70  Caucasian   \n",
       "1  141168             128919                     Female  70  Caucasian   \n",
       "2  141168             128919                     Female  70  Caucasian   \n",
       "3  141168             128919                     Female  70  Caucasian   \n",
       "4  141168             128919                     Female  70  Caucasian   \n",
       "\n",
       "   hospitalid  wardid                              apacheadmissiondx  \\\n",
       "0  59          91      Rhythm disturbance (atrial, supraventricular)   \n",
       "1  59          91      Rhythm disturbance (atrial, supraventricular)   \n",
       "2  59          91      Rhythm disturbance (atrial, supraventricular)   \n",
       "3  59          91      Rhythm disturbance (atrial, supraventricular)   \n",
       "4  59          91      Rhythm disturbance (atrial, supraventricular)   \n",
       "\n",
       "   admissionheight hospitaladmittime24  ...  unitdischargeoffset  \\\n",
       "0  152.4            15:54:00            ...  3596                  \n",
       "1  152.4            15:54:00            ...  3596                  \n",
       "2  152.4            15:54:00            ...  3596                  \n",
       "3  152.4            15:54:00            ...  3596                  \n",
       "4  152.4            15:54:00            ...  3596                  \n",
       "\n",
       "  unitdischargelocation  unitdischargestatus  uniquepid  diagnosisid  \\\n",
       "0  Death                 Expired              002-34851  4222318       \n",
       "1  Death                 Expired              002-34851  3370568       \n",
       "2  Death                 Expired              002-34851  4160941       \n",
       "3  Death                 Expired              002-34851  4103261       \n",
       "4  Death                 Expired              002-34851  3545241       \n",
       "\n",
       "  activeupondischarge diagnosisoffset  \\\n",
       "0  False               72               \n",
       "1  True                118              \n",
       "2  False               72               \n",
       "3  True                118              \n",
       "4  True                118              \n",
       "\n",
       "                                                  diagnosisstring  \\\n",
       "0  cardiovascular|chest pain / ASHD|coronary artery disease|known   \n",
       "1  cardiovascular|ventricular disorders|cardiomyopathy              \n",
       "2  pulmonary|disorders of the airways|COPD                          \n",
       "3  pulmonary|disorders of the airways|COPD                          \n",
       "4  cardiovascular|ventricular disorders|congestive heart failure    \n",
       "\n",
       "         icd9code diagnosispriority  \n",
       "0  414.00, I25.10  Other             \n",
       "1                  Other             \n",
       "2  491.20, J44.9   Other             \n",
       "3  491.20, J44.9   Other             \n",
       "4  428.0, I50.9    Other             \n",
       "\n",
       "[5 rows x 35 columns]"
      ]
     },
     "execution_count": 53,
     "metadata": {},
     "output_type": "execute_result"
    }
   ],
   "source": [
    "pd.DataFrame.head(patient_diagonsis_df)"
   ]
  },
  {
   "cell_type": "code",
   "execution_count": 54,
   "metadata": {},
   "outputs": [],
   "source": [
    "sepsis_icd9 = '038.'\n",
    "sepsis_df = patient_diagonsis_df[patient_diagonsis_df[\"icd9code\"].str.contains(sepsis_icd9)]"
   ]
  },
  {
   "cell_type": "code",
   "execution_count": 55,
   "metadata": {},
   "outputs": [
    {
     "data": {
      "text/plain": [
       "(69830, 35)"
      ]
     },
     "execution_count": 55,
     "metadata": {},
     "output_type": "execute_result"
    }
   ],
   "source": [
    "sepsis_df.shape"
   ]
  },
  {
   "cell_type": "code",
   "execution_count": 56,
   "metadata": {},
   "outputs": [
    {
     "data": {
      "text/plain": [
       "(527290, 35)"
      ]
     },
     "execution_count": 56,
     "metadata": {},
     "output_type": "execute_result"
    }
   ],
   "source": [
    "sepsis_df = patient_diagonsis_df[patient_diagonsis_df[\"apacheadmissiondx\"].str.contains(\"Sepsis\")]\n",
    "sepsis_df.shape"
   ]
  },
  {
   "cell_type": "code",
   "execution_count": 57,
   "metadata": {},
   "outputs": [],
   "source": [
    "query = query_schema + \"\"\"\n",
    "SELECT *\n",
    "FROM apacheapsvar\n",
    "\"\"\"\n",
    "\n",
    "apache_aps_df = pd.read_sql_query(query, con)\n",
    "apache_aps_df.to_pickle(\"pickles/apacheapsvar.pkl\")"
   ]
  },
  {
   "cell_type": "code",
   "execution_count": 58,
   "metadata": {},
   "outputs": [],
   "source": [
    "sepsis_df = pd.merge(sepsis_df, apache_aps_df, on=\"patientunitstayid\")\n",
    "sepsis_df.shape\n",
    "sepsis_df.to_pickle(\"pickles/sepsis_df.pkl\")"
   ]
  },
  {
   "cell_type": "code",
   "execution_count": 59,
   "metadata": {},
   "outputs": [],
   "source": [
    "query = query_schema + \"\"\"\n",
    "SELECT *\n",
    "FROM hospital\n",
    "\"\"\"\n",
    "\n",
    "hospital_df = pd.read_sql_query(query, con)\n",
    "hospital_df.to_pickle(\"pickles/hospital.pkl\")"
   ]
  },
  {
   "cell_type": "code",
   "execution_count": 60,
   "metadata": {},
   "outputs": [
    {
     "data": {
      "text/plain": [
       "(208, 4)"
      ]
     },
     "execution_count": 60,
     "metadata": {},
     "output_type": "execute_result"
    }
   ],
   "source": [
    "hospital_df.shape"
   ]
  },
  {
   "cell_type": "code",
   "execution_count": 61,
   "metadata": {},
   "outputs": [
    {
     "data": {
      "text/plain": [
       "420    89878\n",
       "122    21433\n",
       "188    16779\n",
       "142    11885\n",
       "79     11464\n",
       "394    10582\n",
       "252    10047\n",
       "167    8958 \n",
       "391    8763 \n",
       "417    8187 \n",
       "73     8068 \n",
       "365    7894 \n",
       "140    7134 \n",
       "243    7103 \n",
       "419    6940 \n",
       "226    6854 \n",
       "157    6826 \n",
       "176    6808 \n",
       "199    6777 \n",
       "400    5827 \n",
       "271    5718 \n",
       "110    5698 \n",
       "227    5552 \n",
       "416    5546 \n",
       "388    5523 \n",
       "392    5508 \n",
       "390    5428 \n",
       "141    5290 \n",
       "449    5121 \n",
       "165    4972 \n",
       "382    4815 \n",
       "148    4678 \n",
       "440    4649 \n",
       "386    4575 \n",
       "458    4418 \n",
       "248    4375 \n",
       "435    4180 \n",
       "154    4060 \n",
       "92     3977 \n",
       "353    3977 \n",
       "384    3889 \n",
       "281    3507 \n",
       "434    3494 \n",
       "283    3351 \n",
       "206    3293 \n",
       "424    3278 \n",
       "277    3105 \n",
       "155    2726 \n",
       "171    2726 \n",
       "244    2661 \n",
       "403    2591 \n",
       "208    2524 \n",
       "407    2493 \n",
       "421    2374 \n",
       "405    2305 \n",
       "396    2283 \n",
       "280    2257 \n",
       "444    2216 \n",
       "85     2147 \n",
       "397    2012 \n",
       "66     1944 \n",
       "357    1939 \n",
       "202    1898 \n",
       "399    1895 \n",
       "95     1781 \n",
       "452    1772 \n",
       "63     1769 \n",
       "272    1758 \n",
       "108    1757 \n",
       "253    1757 \n",
       "429    1643 \n",
       "360    1558 \n",
       "381    1554 \n",
       "358    1522 \n",
       "436    1511 \n",
       "183    1447 \n",
       "300    1430 \n",
       "389    1414 \n",
       "275    1399 \n",
       "338    1391 \n",
       "175    1389 \n",
       "404    1357 \n",
       "269    1343 \n",
       "402    1251 \n",
       "364    1227 \n",
       "387    1136 \n",
       "383    1127 \n",
       "146    1121 \n",
       "181    1113 \n",
       "144    1101 \n",
       "268    1092 \n",
       "184    1086 \n",
       "93     1058 \n",
       "200    1039 \n",
       "112    1016 \n",
       "264    998  \n",
       "459    958  \n",
       "279    955  \n",
       "445    936  \n",
       "345    916  \n",
       "143    883  \n",
       "282    821  \n",
       "307    807  \n",
       "443    806  \n",
       "245    749  \n",
       "398    735  \n",
       "158    704  \n",
       "408    668  \n",
       "59     610  \n",
       "217    608  \n",
       "249    591  \n",
       "69     555  \n",
       "83     547  \n",
       "125    542  \n",
       "273    535  \n",
       "123    506  \n",
       "71     504  \n",
       "411    490  \n",
       "318    482  \n",
       "422    463  \n",
       "204    458  \n",
       "251    453  \n",
       "152    435  \n",
       "250    431  \n",
       "336    430  \n",
       "67     425  \n",
       "350    412  \n",
       "331    406  \n",
       "58     397  \n",
       "355    389  \n",
       "180    380  \n",
       "131    378  \n",
       "60     358  \n",
       "197    347  \n",
       "84     332  \n",
       "120    322  \n",
       "210    313  \n",
       "102    311  \n",
       "215    307  \n",
       "138    291  \n",
       "68     273  \n",
       "310    269  \n",
       "174    251  \n",
       "433    250  \n",
       "56     245  \n",
       "259    241  \n",
       "61     237  \n",
       "203    234  \n",
       "312    221  \n",
       "207    220  \n",
       "115    218  \n",
       "393    203  \n",
       "133    201  \n",
       "439    196  \n",
       "356    185  \n",
       "220    185  \n",
       "301    183  \n",
       "425    182  \n",
       "201    176  \n",
       "428    165  \n",
       "90     159  \n",
       "182    153  \n",
       "164    144  \n",
       "194    142  \n",
       "86     137  \n",
       "195    124  \n",
       "438    121  \n",
       "256    115  \n",
       "135    114  \n",
       "224    106  \n",
       "447    104  \n",
       "337    101  \n",
       "196    98   \n",
       "96     98   \n",
       "91     88   \n",
       "352    86   \n",
       "198    83   \n",
       "412    72   \n",
       "205    70   \n",
       "303    70   \n",
       "328    65   \n",
       "342    58   \n",
       "254    55   \n",
       "258    50   \n",
       "363    49   \n",
       "266    47   \n",
       "94     46   \n",
       "351    41   \n",
       "209    39   \n",
       "262    37   \n",
       "437    25   \n",
       "413    17   \n",
       "361    16   \n",
       "323    11   \n",
       "265    9    \n",
       "263    9    \n",
       "414    9    \n",
       "267    8    \n",
       "401    8    \n",
       "151    6    \n",
       "179    3    \n",
       "212    2    \n",
       "423    2    \n",
       "156    2    \n",
       "246    2    \n",
       "Name: hospitalid, dtype: int64"
      ]
     },
     "execution_count": 61,
     "metadata": {},
     "output_type": "execute_result"
    }
   ],
   "source": [
    "sepsis_df[\"hospitalid\"].value_counts()"
   ]
  },
  {
   "cell_type": "code",
   "execution_count": 62,
   "metadata": {},
   "outputs": [],
   "source": [
    "# 89878 people\n",
    "big_hospital_id = 420 \n",
    "\n",
    "# 11885 people\n",
    "medium_hospital_id = 142\n",
    "\n",
    "# 5428 people\n",
    "small_hospital_id = 390"
   ]
  },
  {
   "cell_type": "code",
   "execution_count": 63,
   "metadata": {},
   "outputs": [],
   "source": [
    "big_hospital_df = sepsis_df[sepsis_df[\"hospitalid\"] == big_hospital_id]\n",
    "big_hospital_df.to_pickle(\"pickles/big_hospital.pkl\")\n",
    "\n",
    "medium_hospital_df = sepsis_df[sepsis_df[\"hospitalid\"] == medium_hospital_id]\n",
    "medium_hospital_df.to_pickle(\"pickles/medium_hospital.pkl\")\n",
    "\n",
    "small_hospital_df = sepsis_df[sepsis_df[\"hospitalid\"] == small_hospital_id]\n",
    "small_hospital_df.to_pickle(\"pickles/small_hospital.pkl\")\n"
   ]
  },
  {
   "cell_type": "code",
   "execution_count": 64,
   "metadata": {},
   "outputs": [
    {
     "name": "stdout",
     "output_type": "stream",
     "text": [
      "big hospital dims:\t (89878, 60)\n",
      "medium hospital dims:\t (11885, 60)\n",
      "small hospital dims:\t (5428, 60)\n"
     ]
    }
   ],
   "source": [
    "print(\"big hospital dims:\\t\", big_hospital_df.shape)\n",
    "print(\"medium hospital dims:\\t\", medium_hospital_df.shape)\n",
    "print(\"small hospital dims:\\t\", small_hospital_df.shape)"
   ]
  },
  {
   "cell_type": "code",
   "execution_count": 68,
   "metadata": {},
   "outputs": [
    {
     "data": {
      "text/plain": [
       "(107191, 60)"
      ]
     },
     "execution_count": 68,
     "metadata": {},
     "output_type": "execute_result"
    }
   ],
   "source": [
    "three_hospital_df = sepsis_df[(sepsis_df[\"hospitalid\"] == big_hospital_id) |\n",
    "                             (sepsis_df[\"hospitalid\"] == medium_hospital_id) |\n",
    "                             (sepsis_df[\"hospitalid\"] == small_hospital_id)]\n",
    "three_hospital_df.to_pickle(\"pickles/three_hospital.pkl\")\n",
    "three_hospital_df.shape"
   ]
  },
  {
   "cell_type": "code",
   "execution_count": 69,
   "metadata": {},
   "outputs": [
    {
     "data": {
      "text/plain": [
       "107191"
      ]
     },
     "execution_count": 69,
     "metadata": {},
     "output_type": "execute_result"
    }
   ],
   "source": [
    "89878 +11885 + 5428"
   ]
  },
  {
   "cell_type": "code",
   "execution_count": null,
   "metadata": {},
   "outputs": [],
   "source": []
  }
 ],
 "metadata": {
  "kernelspec": {
   "display_name": "Python 3",
   "language": "python",
   "name": "python3"
  },
  "language_info": {
   "codemirror_mode": {
    "name": "ipython",
    "version": 3
   },
   "file_extension": ".py",
   "mimetype": "text/x-python",
   "name": "python",
   "nbconvert_exporter": "python",
   "pygments_lexer": "ipython3",
   "version": "3.8.3"
  }
 },
 "nbformat": 4,
 "nbformat_minor": 4
}
